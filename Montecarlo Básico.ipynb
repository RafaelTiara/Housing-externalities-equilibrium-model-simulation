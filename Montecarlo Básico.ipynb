{
 "cells": [
  {
   "cell_type": "markdown",
   "id": "f4c5fbb5",
   "metadata": {},
   "source": [
    "## Montecarlo Simulation\n",
    "This code generates a Montecarlo simulation for the equilibrium model of a household that chooses goods and housing consumption. Formally, the individuals $i$ face:\n",
    "\n",
    "$\\underset{c, h}{\\max} \\hspace{5pt} c_{i}^{1 - \\gamma} (h_{i})^{\\gamma}$\n",
    "\n",
    "s.t.\n",
    "$c_i + r_nh_i^R  \\leq w_i $\n",
    "\n",
    "\n"
   ]
  },
  {
   "cell_type": "code",
   "execution_count": 53,
   "id": "1ee1696c",
   "metadata": {},
   "outputs": [],
   "source": [
    "#install.packages(\"truncnorm\")\n",
    "#install.packages(\"ggplot2\")\n",
    "library(truncnorm)\n",
    "library(ggplot2)\n",
    "set.seed(9111995)"
   ]
  },
  {
   "cell_type": "markdown",
   "id": "5c109aad",
   "metadata": {},
   "source": [
    "#### Setting Parameters"
   ]
  },
  {
   "cell_type": "code",
   "execution_count": 54,
   "id": "ca64e8c3",
   "metadata": {},
   "outputs": [],
   "source": [
    "#From BCentral \n",
    "gamma = 0.21\n",
    "#provisory\n",
    "gamma = 0.31"
   ]
  },
  {
   "cell_type": "markdown",
   "id": "b08679e8",
   "metadata": {},
   "source": [
    "#### Generating Data"
   ]
  },
  {
   "cell_type": "code",
   "execution_count": 55,
   "id": "9b92f8bc",
   "metadata": {},
   "outputs": [
    {
     "name": "stdout",
     "output_type": "stream",
     "text": [
      "[1] \"El precio por m2 en $ es:\"\n",
      "[1] 2340.909\n"
     ]
    }
   ],
   "source": [
    "#N° of obs\n",
    "obs = 10000\n",
    "\n",
    "#In $1000 units\n",
    "#RM Log Rental price from BCentral \n",
    "R = rtruncnorm(n=obs, a=0, mean=103, sd=103*0.15)\n",
    "#RM Wages from BCentral \n",
    "w = rtruncnorm(n=obs, a=0, mean=529, sd=529*0.15)\n",
    "\n",
    "\n",
    "#In meters\n",
    "#Average house size 44 (m2) from CNN\n",
    "r = 103/44\n",
    "print(\"El precio por m2 en $ es:\")\n",
    "print(1000*r)"
   ]
  },
  {
   "cell_type": "markdown",
   "id": "0454d77e",
   "metadata": {},
   "source": [
    "Calculate housing consumption:\n",
    "\n",
    "$ h_{i}^{I*} =  \\gamma w_i/r_n$"
   ]
  },
  {
   "cell_type": "code",
   "execution_count": 56,
   "id": "e1555d30",
   "metadata": {},
   "outputs": [
    {
     "name": "stdout",
     "output_type": "stream",
     "text": [
      "[1] \"La cantidad de m2 por hogar arrendados son: 70.2030022099078\"\n",
      "[1] \"El total de arriendo promedio en $ es:  164338.846082284\"\n"
     ]
    }
   ],
   "source": [
    "h = gamma*w/r\n",
    "H = mean(h)\n",
    "print(paste(\"La cantidad de m2 por hogar arrendados son:\", H))\n",
    "print(paste(\"El total de arriendo promedio en $ es: \", H*r*1000))"
   ]
  },
  {
   "cell_type": "code",
   "execution_count": 57,
   "id": "2a65e8d2",
   "metadata": {},
   "outputs": [
    {
     "data": {
      "image/png": "[encoded data removed]",
      "text/plain": [
       "Plot with title \"Histogram of h\""
      ]
     },
     "metadata": {},
     "output_type": "display_data"
    }
   ],
   "source": [
    "hist(h, breaks=length(h)/100, freq=TRUE, xlim = c(0,100)) "
   ]
  },
  {
   "cell_type": "markdown",
   "id": "0d91328f",
   "metadata": {},
   "source": [
    "### IN LOGS"
   ]
  },
  {
   "cell_type": "markdown",
   "id": "5d420426",
   "metadata": {},
   "source": [
    "#### References\n",
    "BCentral : https://si2.bcentral.cl/public/pdf/documentos-trabajo/pdf/dtbc781.pdf\n",
    "\n",
    "CNN: https://www.cnnchile.com/coronavirus/hogares-vitacura-18-mts2-puente-alto_20200413/"
   ]
  }
 ],
 "metadata": {
  "kernelspec": {
   "display_name": "R",
   "language": "R",
   "name": "ir"
  },
  "language_info": {
   "codemirror_mode": "r",
   "file_extension": ".r",
   "mimetype": "text/x-r-source",
   "name": "R",
   "pygments_lexer": "r",
   "version": "3.6.1"
  }
 },
 "nbformat": 4,
 "nbformat_minor": 5
}
