{
 "cells": [
  {
   "cell_type": "markdown",
   "id": "f4c5fbb5",
   "metadata": {},
   "source": [
    "## Montecarlo Simulation\n",
    "This code generates a Montecarlo simulation for the equilibrium model of a household that chooses goods and housing consumption. Formally, the individuals $i$ face:\n",
    "\n",
    "$\\underset{c, h}{\\max} \\hspace{5pt} c_{i}^{1 - \\gamma} (\\phi h_{i}^R + h_{i}^I - \\overline{H}_n^d)^{\\gamma}$\n",
    "\n",
    "s.t.\n",
    "$c_i + r_nh_i^R + p_nh_i^I \\leq w_i$\n",
    "\n",
    "$\\hspace{12pt} r_nh_i^R = R_{in}$\n",
    "\n",
    "FOC for $h_{i}^{I*}$ is:\n",
    "\n",
    "$ h_{i}^{I*} =  \\frac{(1 - \\gamma)}{\\phi}(\\bar{H}_n^d - R_i/r_n) + \\frac{\\gamma}{p_n}(w_i - R_i)  \\hspace{10pt} (2) $\n",
    "\n",
    "with:\n",
    "$\\overline{H}_n^d \\equiv \\frac{\\upsilon}{d_{pi}^\\theta}h_{p}$\n",
    "\n"
   ]
  },
  {
   "cell_type": "code",
   "execution_count": 1,
   "id": "1ee1696c",
   "metadata": {},
   "outputs": [
    {
     "name": "stderr",
     "output_type": "stream",
     "text": [
      "Warning message:\n",
      "\"package 'truncnorm' was built under R version 3.6.3\""
     ]
    }
   ],
   "source": [
    "#install.packages(\"truncnorm\")\n",
    "#install.packages(\"ggplot2\")\n",
    "#install.packages(\"psych\")\n",
    "library(truncnorm)\n",
    "#library(ggplot2)\n",
    "library(psych)\n",
    "set.seed(9111995)"
   ]
  },
  {
   "cell_type": "markdown",
   "id": "5c109aad",
   "metadata": {},
   "source": [
    "#### Setting Parameters"
   ]
  },
  {
   "cell_type": "code",
   "execution_count": 2,
   "id": "ca64e8c3",
   "metadata": {},
   "outputs": [],
   "source": [
    "#From BCentral + 0.1. It's possible to estimate this parameter as BC. gamma = (average expenditure in housing)/(average income)\n",
    "gamma = 0.31\n",
    "\n",
    "#Arbitrarily\n",
    "upsilon = 0.5\n",
    "\n",
    "theta = 1\n",
    "\n",
    "phi =  15"
   ]
  },
  {
   "cell_type": "markdown",
   "id": "b08679e8",
   "metadata": {},
   "source": [
    "#### Generating Data"
   ]
  },
  {
   "cell_type": "code",
   "execution_count": 3,
   "id": "9b92f8bc",
   "metadata": {},
   "outputs": [],
   "source": [
    "#N° of obs\n",
    "obs = 10000\n",
    "#Months in a year\n",
    "m = 12\n",
    "\n",
    "#In $1000 units\n",
    "#RM Log Rental price from BCentral = 103.000\n",
    "R = rtruncnorm(n=obs, a=0, mean=103*m, sd=103*m*0.1)\n",
    "#RM Wages from BCentral            = 529.000\n",
    "w = rtruncnorm(n=obs, a=0, mean=529*m, sd=529*m*0.1)\n",
    "#Price of extension 15UF/m2\n",
    "p = 450\n",
    "\n",
    "\n",
    "#In meters\n",
    "#From d = 1 to d = 1000\n",
    "d = runif(obs, 1, 1000)\n",
    "#Social housing investment size (m2)\n",
    "h_p = 10000\n",
    "#Average house size (m2) from CNN\n",
    "h_R = rtruncnorm(n=obs, a=0, mean=44, sd=44*0.1)\n",
    "#Rental price per m2\n",
    "r = R/h_R"
   ]
  },
  {
   "cell_type": "code",
   "execution_count": 4,
   "id": "6583973f",
   "metadata": {},
   "outputs": [
    {
     "data": {
      "text/html": [
       "<table>\n",
       "<thead><tr><th></th><th scope=col>vars</th><th scope=col>n</th><th scope=col>mean</th><th scope=col>sd</th><th scope=col>median</th><th scope=col>trimmed</th><th scope=col>mad</th><th scope=col>min</th><th scope=col>max</th><th scope=col>range</th><th scope=col>skew</th><th scope=col>kurtosis</th><th scope=col>se</th></tr></thead>\n",
       "<tbody>\n",
       "\t<tr><th scope=row>X1</th><td>1          </td><td>10000      </td><td>1234.6013  </td><td>123.1018   </td><td>1233.8323  </td><td>1234.5797  </td><td>121.9212   </td><td> 736.627591</td><td>1634.5111  </td><td> 897.8835  </td><td>-0.01535030</td><td> 0.06916945</td><td>1.231018   </td></tr>\n",
       "\t<tr><th scope=row>X2</th><td>2          </td><td>10000      </td><td>6357.0025  </td><td>639.9839   </td><td>6359.5694  </td><td>6357.4428  </td><td>643.8830   </td><td>4041.049096</td><td>8600.5615  </td><td>4559.5125  </td><td>-0.01919963</td><td>-0.06504678</td><td>6.399839   </td></tr>\n",
       "\t<tr><th scope=row>X3</th><td>3          </td><td>10000      </td><td> 505.1843  </td><td>287.9215   </td><td> 509.2887  </td><td> 505.8895  </td><td>368.4226   </td><td>   1.031477</td><td> 999.9667  </td><td> 998.9352  </td><td>-0.01205276</td><td>-1.18986587</td><td>2.879215   </td></tr>\n",
       "</tbody>\n",
       "</table>\n"
      ],
      "text/latex": [
       "\\begin{tabular}{r|lllllllllllll}\n",
       "  & vars & n & mean & sd & median & trimmed & mad & min & max & range & skew & kurtosis & se\\\\\n",
       "\\hline\n",
       "\tX1 & 1           & 10000       & 1234.6013   & 123.1018    & 1233.8323   & 1234.5797   & 121.9212    &  736.627591 & 1634.5111   &  897.8835   & -0.01535030 &  0.06916945 & 1.231018   \\\\\n",
       "\tX2 & 2           & 10000       & 6357.0025   & 639.9839    & 6359.5694   & 6357.4428   & 643.8830    & 4041.049096 & 8600.5615   & 4559.5125   & -0.01919963 & -0.06504678 & 6.399839   \\\\\n",
       "\tX3 & 3           & 10000       &  505.1843   & 287.9215    &  509.2887   &  505.8895   & 368.4226    &    1.031477 &  999.9667   &  998.9352   & -0.01205276 & -1.18986587 & 2.879215   \\\\\n",
       "\\end{tabular}\n"
      ],
      "text/markdown": [
       "\n",
       "| <!--/--> | vars | n | mean | sd | median | trimmed | mad | min | max | range | skew | kurtosis | se |\n",
       "|---|---|---|---|---|---|---|---|---|---|---|---|---|---|\n",
       "| X1 | 1           | 10000       | 1234.6013   | 123.1018    | 1233.8323   | 1234.5797   | 121.9212    |  736.627591 | 1634.5111   |  897.8835   | -0.01535030 |  0.06916945 | 1.231018    |\n",
       "| X2 | 2           | 10000       | 6357.0025   | 639.9839    | 6359.5694   | 6357.4428   | 643.8830    | 4041.049096 | 8600.5615   | 4559.5125   | -0.01919963 | -0.06504678 | 6.399839    |\n",
       "| X3 | 3           | 10000       |  505.1843   | 287.9215    |  509.2887   |  505.8895   | 368.4226    |    1.031477 |  999.9667   |  998.9352   | -0.01205276 | -1.18986587 | 2.879215    |\n",
       "\n"
      ],
      "text/plain": [
       "   vars n     mean      sd       median    trimmed   mad      min        \n",
       "X1 1    10000 1234.6013 123.1018 1233.8323 1234.5797 121.9212  736.627591\n",
       "X2 2    10000 6357.0025 639.9839 6359.5694 6357.4428 643.8830 4041.049096\n",
       "X3 3    10000  505.1843 287.9215  509.2887  505.8895 368.4226    1.031477\n",
       "   max       range     skew        kurtosis    se      \n",
       "X1 1634.5111  897.8835 -0.01535030  0.06916945 1.231018\n",
       "X2 8600.5615 4559.5125 -0.01919963 -0.06504678 6.399839\n",
       "X3  999.9667  998.9352 -0.01205276 -1.18986587 2.879215"
      ]
     },
     "metadata": {},
     "output_type": "display_data"
    }
   ],
   "source": [
    "#Sample description\n",
    "Sample = matrix(c(R, w, d), ncol=3)\n",
    "describe(Sample)"
   ]
  },
  {
   "cell_type": "markdown",
   "id": "632efb5d",
   "metadata": {},
   "source": [
    "### Calculate housing investment without intervention ($\\overline{H}_n^d = 0$):\n",
    "\n",
    "$ h_{i}^{I*} =  \\frac{\\gamma}{p}(w_i - R_i) - \\frac{(1-\\gamma)}{\\phi}\\frac{R}{r}$"
   ]
  },
  {
   "cell_type": "markdown",
   "id": "9d3b271b",
   "metadata": {},
   "source": [
    "#### Descripción de resultados"
   ]
  },
  {
   "cell_type": "code",
   "execution_count": 5,
   "id": "33b98276",
   "metadata": {},
   "outputs": [
    {
     "name": "stdout",
     "output_type": "stream",
     "text": [
      "[1] \"La inversión promedio en housing quality sin externalidades es 1.50790472442267\"\n"
     ]
    }
   ],
   "source": [
    "h_0 = (gamma/p*(w - R) - R*(1-gamma)/(phi*r))\n",
    "print(paste(\"La inversión promedio en housing quality sin externalidades es\", mean(h_0)))"
   ]
  },
  {
   "cell_type": "code",
   "execution_count": 6,
   "id": "f8ef6c86",
   "metadata": {},
   "outputs": [
    {
     "data": {
      "text/html": [
       "<table>\n",
       "<thead><tr><th></th><th scope=col>vars</th><th scope=col>n</th><th scope=col>mean</th><th scope=col>sd</th><th scope=col>median</th><th scope=col>trimmed</th><th scope=col>mad</th><th scope=col>min</th><th scope=col>max</th><th scope=col>range</th><th scope=col>skew</th><th scope=col>kurtosis</th><th scope=col>se</th></tr></thead>\n",
       "<tbody>\n",
       "\t<tr><th scope=row>X1</th><td>1          </td><td>10000      </td><td>1.507905   </td><td>0.4943266  </td><td>1.513648   </td><td>1.507463   </td><td>0.5003545  </td><td>-0.1370652 </td><td>3.284575   </td><td>3.421641   </td><td>0.00227568 </td><td>-0.07510761</td><td>0.004943266</td></tr>\n",
       "</tbody>\n",
       "</table>\n"
      ],
      "text/latex": [
       "\\begin{tabular}{r|lllllllllllll}\n",
       "  & vars & n & mean & sd & median & trimmed & mad & min & max & range & skew & kurtosis & se\\\\\n",
       "\\hline\n",
       "\tX1 & 1           & 10000       & 1.507905    & 0.4943266   & 1.513648    & 1.507463    & 0.5003545   & -0.1370652  & 3.284575    & 3.421641    & 0.00227568  & -0.07510761 & 0.004943266\\\\\n",
       "\\end{tabular}\n"
      ],
      "text/markdown": [
       "\n",
       "| <!--/--> | vars | n | mean | sd | median | trimmed | mad | min | max | range | skew | kurtosis | se |\n",
       "|---|---|---|---|---|---|---|---|---|---|---|---|---|---|\n",
       "| X1 | 1           | 10000       | 1.507905    | 0.4943266   | 1.513648    | 1.507463    | 0.5003545   | -0.1370652  | 3.284575    | 3.421641    | 0.00227568  | -0.07510761 | 0.004943266 |\n",
       "\n"
      ],
      "text/plain": [
       "   vars n     mean     sd        median   trimmed  mad       min       \n",
       "X1 1    10000 1.507905 0.4943266 1.513648 1.507463 0.5003545 -0.1370652\n",
       "   max      range    skew       kurtosis    se         \n",
       "X1 3.284575 3.421641 0.00227568 -0.07510761 0.004943266"
      ]
     },
     "metadata": {},
     "output_type": "display_data"
    }
   ],
   "source": [
    "describe(h_0)"
   ]
  },
  {
   "cell_type": "code",
   "execution_count": 7,
   "id": "529ed042",
   "metadata": {},
   "outputs": [
    {
     "data": {
      "image/png": "[encoded data removed]",
      "text/plain": [
       "Plot with title \"Histogram of h_0\""
      ]
     },
     "metadata": {},
     "output_type": "display_data"
    }
   ],
   "source": [
    "hist(h_0, breaks=length(h_0)/100, freq=TRUE)#, xlim = c(0,50)) "
   ]
  },
  {
   "cell_type": "markdown",
   "id": "0454d77e",
   "metadata": {},
   "source": [
    "### Calculate housing investment with intervention ($\\overline{H}_n^d \\neq 0$):\n",
    "\n",
    "$ h_{i}^{I*} =  \\frac{(1 - \\gamma)}{\\phi}(\\bar{H}_n^d - R_i/r_n) + \\frac{\\gamma}{p_n}(w_i - R_i)  $"
   ]
  },
  {
   "cell_type": "code",
   "execution_count": 8,
   "id": "edf623d5",
   "metadata": {},
   "outputs": [
    {
     "name": "stdout",
     "output_type": "stream",
     "text": [
      "[1] \"La inversión promedio en housing quality con externalidades es 3.0765163763572\"\n"
     ]
    }
   ],
   "source": [
    "h_1 = (1-gamma)/phi*(upsilon*h_p/(d^theta) - R/r) + gamma/p*(w - R)\n",
    "print(paste(\"La inversión promedio en housing quality con externalidades es\", mean(h_1)))"
   ]
  },
  {
   "cell_type": "markdown",
   "id": "b83c70e4",
   "metadata": {},
   "source": [
    "#### Descripción de resultados"
   ]
  },
  {
   "cell_type": "code",
   "execution_count": 9,
   "id": "a7e66a36",
   "metadata": {},
   "outputs": [
    {
     "data": {
      "text/html": [
       "<table>\n",
       "<thead><tr><th></th><th scope=col>vars</th><th scope=col>n</th><th scope=col>mean</th><th scope=col>sd</th><th scope=col>median</th><th scope=col>trimmed</th><th scope=col>mad</th><th scope=col>min</th><th scope=col>max</th><th scope=col>range</th><th scope=col>skew</th><th scope=col>kurtosis</th><th scope=col>se</th></tr></thead>\n",
       "<tbody>\n",
       "\t<tr><th scope=row>X1</th><td>1         </td><td>10000     </td><td>3.076516  </td><td>7.497174  </td><td>2.125875  </td><td>2.200118  </td><td>0.7077553 </td><td>0.1313112 </td><td>224.2853  </td><td>224.154   </td><td>16.86928  </td><td>353.5956  </td><td>0.07497174</td></tr>\n",
       "</tbody>\n",
       "</table>\n"
      ],
      "text/latex": [
       "\\begin{tabular}{r|lllllllllllll}\n",
       "  & vars & n & mean & sd & median & trimmed & mad & min & max & range & skew & kurtosis & se\\\\\n",
       "\\hline\n",
       "\tX1 & 1          & 10000      & 3.076516   & 7.497174   & 2.125875   & 2.200118   & 0.7077553  & 0.1313112  & 224.2853   & 224.154    & 16.86928   & 353.5956   & 0.07497174\\\\\n",
       "\\end{tabular}\n"
      ],
      "text/markdown": [
       "\n",
       "| <!--/--> | vars | n | mean | sd | median | trimmed | mad | min | max | range | skew | kurtosis | se |\n",
       "|---|---|---|---|---|---|---|---|---|---|---|---|---|---|\n",
       "| X1 | 1          | 10000      | 3.076516   | 7.497174   | 2.125875   | 2.200118   | 0.7077553  | 0.1313112  | 224.2853   | 224.154    | 16.86928   | 353.5956   | 0.07497174 |\n",
       "\n"
      ],
      "text/plain": [
       "   vars n     mean     sd       median   trimmed  mad       min       max     \n",
       "X1 1    10000 3.076516 7.497174 2.125875 2.200118 0.7077553 0.1313112 224.2853\n",
       "   range   skew     kurtosis se        \n",
       "X1 224.154 16.86928 353.5956 0.07497174"
      ]
     },
     "metadata": {},
     "output_type": "display_data"
    }
   ],
   "source": [
    "describe(h_1)"
   ]
  },
  {
   "cell_type": "code",
   "execution_count": 10,
   "id": "2a65e8d2",
   "metadata": {},
   "outputs": [
    {
     "data": {
      "image/png": "[encoded data removed]",
      "text/plain": [
       "Plot with title \"Histogram of h_1\""
      ]
     },
     "metadata": {},
     "output_type": "display_data"
    }
   ],
   "source": [
    "hist(h_1, breaks=length(h_1)/10, freq=TRUE, xlim=c(-10,50))#, xlim = c(0,50)) "
   ]
  },
  {
   "cell_type": "markdown",
   "id": "cdcdc80d",
   "metadata": {},
   "source": [
    "### Externalities effects\n",
    "\n",
    "Now we calculate the housing externalities measured as the change of investment due to the intervention.\n",
    "\n",
    "$\\Delta h  = h_i - h_i^0 $"
   ]
  },
  {
   "cell_type": "code",
   "execution_count": 11,
   "id": "ad717fa9",
   "metadata": {},
   "outputs": [
    {
     "data": {
      "text/html": [
       "<table>\n",
       "<thead><tr><th></th><th scope=col>vars</th><th scope=col>n</th><th scope=col>mean</th><th scope=col>sd</th><th scope=col>median</th><th scope=col>trimmed</th><th scope=col>mad</th><th scope=col>min</th><th scope=col>max</th><th scope=col>range</th><th scope=col>skew</th><th scope=col>kurtosis</th><th scope=col>se</th></tr></thead>\n",
       "<tbody>\n",
       "\t<tr><th scope=row>X1</th><td>1         </td><td>10000     </td><td>1.568612  </td><td>7.479631  </td><td>0.4516102 </td><td>0.6158757 </td><td>0.2735464 </td><td>0.2300077 </td><td>222.9812  </td><td>222.7512  </td><td>16.98367  </td><td>356.9192  </td><td>0.07479631</td></tr>\n",
       "</tbody>\n",
       "</table>\n"
      ],
      "text/latex": [
       "\\begin{tabular}{r|lllllllllllll}\n",
       "  & vars & n & mean & sd & median & trimmed & mad & min & max & range & skew & kurtosis & se\\\\\n",
       "\\hline\n",
       "\tX1 & 1          & 10000      & 1.568612   & 7.479631   & 0.4516102  & 0.6158757  & 0.2735464  & 0.2300077  & 222.9812   & 222.7512   & 16.98367   & 356.9192   & 0.07479631\\\\\n",
       "\\end{tabular}\n"
      ],
      "text/markdown": [
       "\n",
       "| <!--/--> | vars | n | mean | sd | median | trimmed | mad | min | max | range | skew | kurtosis | se |\n",
       "|---|---|---|---|---|---|---|---|---|---|---|---|---|---|\n",
       "| X1 | 1          | 10000      | 1.568612   | 7.479631   | 0.4516102  | 0.6158757  | 0.2735464  | 0.2300077  | 222.9812   | 222.7512   | 16.98367   | 356.9192   | 0.07479631 |\n",
       "\n"
      ],
      "text/plain": [
       "   vars n     mean     sd       median    trimmed   mad       min      \n",
       "X1 1    10000 1.568612 7.479631 0.4516102 0.6158757 0.2735464 0.2300077\n",
       "   max      range    skew     kurtosis se        \n",
       "X1 222.9812 222.7512 16.98367 356.9192 0.07479631"
      ]
     },
     "metadata": {},
     "output_type": "display_data"
    }
   ],
   "source": [
    "delta = h_1 - h_0\n",
    "describe(delta)"
   ]
  },
  {
   "cell_type": "markdown",
   "id": "3ff063da",
   "metadata": {},
   "source": [
    "### Plot"
   ]
  },
  {
   "cell_type": "code",
   "execution_count": 12,
   "id": "354335e2",
   "metadata": {},
   "outputs": [
    {
     "data": {
      "image/png": "[encoded data removed]",
      "text/plain": [
       "Plot with title \"Histogram of delta\""
      ]
     },
     "metadata": {},
     "output_type": "display_data"
    }
   ],
   "source": [
    "hist(delta, breaks=length(h_1)/10, freq=TRUE, xlim = c(-2,10)) #"
   ]
  },
  {
   "cell_type": "code",
   "execution_count": 13,
   "id": "27982805",
   "metadata": {},
   "outputs": [
    {
     "data": {
      "image/png": "[encoded data removed]",
      "text/plain": [
       "Plot with title \"Externalities effects v/s distance\""
      ]
     },
     "metadata": {},
     "output_type": "display_data"
    }
   ],
   "source": [
    "scatter.smooth(x=d, y=delta, main=\"Externalities effects v/s distance\")"
   ]
  },
  {
   "cell_type": "markdown",
   "id": "d2661c13",
   "metadata": {},
   "source": [
    "### Linear Regression"
   ]
  },
  {
   "cell_type": "code",
   "execution_count": 14,
   "id": "04dc48fc",
   "metadata": {},
   "outputs": [
    {
     "data": {
      "text/plain": [
       "\n",
       "Call:\n",
       "lm(formula = h_1 ~ h_0 + d)\n",
       "\n",
       "Residuals:\n",
       "    Min      1Q  Median      3Q     Max \n",
       " -2.560  -1.954  -0.769   0.691 218.002 \n",
       "\n",
       "Coefficients:\n",
       "              Estimate Std. Error t value Pr(>|t|)    \n",
       "(Intercept)  4.9195045  0.2638106  18.648  < 2e-16 ***\n",
       "h_0          1.0511257  0.1460788   7.196 6.67e-13 ***\n",
       "d           -0.0067856  0.0002508 -27.056  < 2e-16 ***\n",
       "---\n",
       "Signif. codes:  0 '***' 0.001 '**' 0.01 '*' 0.05 '.' 0.1 ' ' 1\n",
       "\n",
       "Residual standard error: 7.221 on 9997 degrees of freedom\n",
       "Multiple R-squared:  0.07259,\tAdjusted R-squared:  0.0724 \n",
       "F-statistic: 391.2 on 2 and 9997 DF,  p-value: < 2.2e-16\n"
      ]
     },
     "metadata": {},
     "output_type": "display_data"
    }
   ],
   "source": [
    "#library(tidyverse)\n",
    "Model2 = lm(h_1 ~ h_0 + d)\n",
    "summary(Model2)"
   ]
  },
  {
   "cell_type": "markdown",
   "id": "e82d782d",
   "metadata": {},
   "source": [
    "## Parameter estimation\n",
    "\n",
    "We estimate the parameters by regressing the FOC:\n",
    "\n",
    "1 ) Estimate $\\phi$ from FOC with $\\overline{H}_n^d = 0$, $\\gamma = \\bar{r}/\\bar{w}$, and $h_r = N(44, 4.4)$ (Aquí tuve que convertir h_r de un valor fijo 44 a v.a. con media 44 para poder estimar el beta asociado al segundo termino y despejar $\\phi$).\n",
    "\n",
    "$ h_{i}^{I*} =  \\frac{\\gamma}{p}(w_i - R_i) - \\frac{(1-\\gamma)}{\\phi}\\frac{R}{r} \\Rightarrow$\n",
    "\n",
    "OLS: $ h_{i}^{I*} =  \\beta_1 \\frac{\\gamma}{p}(w_i - R_i) - \\beta_2(1-\\gamma)h_R$. \n",
    "\n",
    "With $\\beta_2 = -1/\\phi$.\n",
    "\n",
    "- $\\beta_1$ must be close to 1.\n",
    "- We should be able to recover the value of $\\phi$, such that $\\hat{\\phi} = \\phi$. \n",
    "- Intercept should be close to 0."
   ]
  },
  {
   "cell_type": "code",
   "execution_count": 15,
   "id": "b926ae6f",
   "metadata": {},
   "outputs": [
    {
     "data": {
      "text/plain": [
       "\n",
       "Call:\n",
       "lm(formula = h_0 ~ x1 + x2)\n",
       "\n",
       "Residuals:\n",
       "       Min         1Q     Median         3Q        Max \n",
       "-7.450e-16 -1.650e-16 -2.000e-17  1.260e-16  1.612e-13 \n",
       "\n",
       "Coefficients:\n",
       "              Estimate Std. Error    t value Pr(>|t|)    \n",
       "(Intercept)  1.705e-15  2.096e-16  8.137e+00 4.55e-16 ***\n",
       "x1           1.000e+00  3.627e-17  2.757e+16  < 2e-16 ***\n",
       "x2          -6.667e-02  5.392e-18 -1.236e+16  < 2e-16 ***\n",
       "---\n",
       "Signif. codes:  0 '***' 0.001 '**' 0.01 '*' 0.05 '.' 0.1 ' ' 1\n",
       "\n",
       "Residual standard error: 1.628e-15 on 9997 degrees of freedom\n",
       "Multiple R-squared:      1,\tAdjusted R-squared:      1 \n",
       "F-statistic: 4.612e+32 on 2 and 9997 DF,  p-value: < 2.2e-16\n"
      ]
     },
     "metadata": {},
     "output_type": "display_data"
    }
   ],
   "source": [
    "x1 = gamma/p*(w-R)\n",
    "x2 = (1-gamma)*h_R\n",
    "Param1 = lm(h_0 ~ x1 + x2)\n",
    "summary(Param1)"
   ]
  },
  {
   "cell_type": "code",
   "execution_count": 16,
   "id": "cab2a4ad",
   "metadata": {},
   "outputs": [
    {
     "name": "stdout",
     "output_type": "stream",
     "text": [
      "[1] \"El phi estimado corresponde a -15\"\n"
     ]
    }
   ],
   "source": [
    "beta_x2 = coef(Param1)[\"x2\"]\n",
    "phi_est = 1/beta_x2\n",
    "\n",
    "print(paste('El phi estimado corresponde a', mean(phi_est)))"
   ]
  },
  {
   "cell_type": "markdown",
   "id": "741095ed",
   "metadata": {},
   "source": [
    "# $\\checkmark$"
   ]
  },
  {
   "cell_type": "markdown",
   "id": "e4e164fc",
   "metadata": {},
   "source": [
    "2) Estimate  $\\upsilon$ and $\\theta$ from:\n",
    "\n",
    "$ h_{i}^{I*} =  \\frac{(1 - \\gamma)}{\\phi}(\\frac{\\upsilon}{d_{pi}^\\theta}h_{p} - R_i/r_n) + \\frac{\\gamma}{p_n}(w_i - R_i) \\hspace{10pt} (*) \\Rightarrow$\n",
    "\n",
    "OLS: $ h_{i}^{I*} =  \\beta_1d_{pi}^{-\\theta}\\frac{(1 - \\gamma)}{\\phi}h_{p} - \\beta_2\\frac{(1 - \\gamma)}{\\phi}R_i/r_n + \\beta_3\\frac{\\gamma}{p_n}(w_i - R_i)$\n",
    "\n",
    "With $\\beta_1 = \\upsilon$.\n",
    "\n",
    "- $\\beta_2$ must be close to -1.\n",
    "- $\\beta_3$ must be close to 1.\n",
    "\n"
   ]
  },
  {
   "cell_type": "code",
   "execution_count": 19,
   "id": "41301d6d",
   "metadata": {},
   "outputs": [
    {
     "name": "stderr",
     "output_type": "stream",
     "text": [
      "Warning message in summary.lm(Param2):\n",
      "\"essentially perfect fit: summary may be unreliable\""
     ]
    },
    {
     "data": {
      "text/plain": [
       "\n",
       "Call:\n",
       "lm(formula = h_1 ~ x3 + x4 + x5)\n",
       "\n",
       "Residuals:\n",
       "       Min         1Q     Median         3Q        Max \n",
       "-2.338e-14 -2.300e-16 -5.000e-17  1.300e-16  4.239e-13 \n",
       "\n",
       "Coefficients:\n",
       "              Estimate Std. Error    t value Pr(>|t|)    \n",
       "(Intercept)  3.979e-15  6.159e-16  6.460e+00  1.1e-10 ***\n",
       "x3           5.000e-01  3.198e-18  1.564e+17  < 2e-16 ***\n",
       "x4          -1.000e+00  2.377e-16 -4.207e+15  < 2e-16 ***\n",
       "x5           1.000e+00  1.066e-16  9.381e+15  < 2e-16 ***\n",
       "---\n",
       "Signif. codes:  0 '***' 0.001 '**' 0.01 '*' 0.05 '.' 0.1 ' ' 1\n",
       "\n",
       "Residual standard error: 4.783e-15 on 9996 degrees of freedom\n",
       "Multiple R-squared:      1,\tAdjusted R-squared:      1 \n",
       "F-statistic: 8.189e+33 on 3 and 9996 DF,  p-value: < 2.2e-16\n"
      ]
     },
     "metadata": {},
     "output_type": "display_data"
    }
   ],
   "source": [
    "x3 = (1-gamma)*h_p/(phi*d) \n",
    "x4 = (1-gamma)/phi*R/r\n",
    "x5 = gamma/p*(w-R)\n",
    "\n",
    "Param2 = lm(h_1 ~ x3 + x4 + x5)\n",
    "summary(Param2)"
   ]
  },
  {
   "cell_type": "markdown",
   "id": "75047149",
   "metadata": {},
   "source": [
    "3) Using $\\upsilon = \\hat{\\upsilon}$ and $\\theta = \\hat{\\theta}$ estimate $\\hat{\\phi}$ from ($*$) and check consistency.\n",
    "\n",
    "$ h_{i}^{I*} =  \\frac{(1 - \\gamma)}{\\phi}(\\frac{\\upsilon}{d_{pi}^\\theta}h_{p} - R_i/r_n) + \\frac{\\gamma}{p_n}(w_i - R_i) \\hspace{10pt} (*) \\Rightarrow$\n",
    "\n",
    "OLS: $ \\beta_1(1 - \\gamma)(\\frac{\\upsilon}{d_{pi}^\\theta}h_{p} - R_i/r_n) + \\beta_2\\frac{\\gamma}{p_n}(w_i - R_i) $\n",
    "\n",
    "With $\\beta_1 = 1/\\phi$.\n",
    "\n",
    "- $\\beta_2$ must be 1."
   ]
  },
  {
   "cell_type": "code",
   "execution_count": 21,
   "id": "f6f4240b",
   "metadata": {},
   "outputs": [
    {
     "name": "stderr",
     "output_type": "stream",
     "text": [
      "Warning message in summary.lm(Param3):\n",
      "\"essentially perfect fit: summary may be unreliable\""
     ]
    },
    {
     "data": {
      "text/plain": [
       "\n",
       "Call:\n",
       "lm(formula = h_1 ~ x6 + x7)\n",
       "\n",
       "Residuals:\n",
       "       Min         1Q     Median         3Q        Max \n",
       "-2.375e-13 -1.360e-16  9.000e-18  1.590e-16  2.031e-13 \n",
       "\n",
       "Coefficients:\n",
       "             Estimate Std. Error   t value Pr(>|t|)    \n",
       "(Intercept) 2.203e-15  2.611e-16 8.437e+00   <2e-16 ***\n",
       "x6          6.667e-02  2.935e-19 2.271e+17   <2e-16 ***\n",
       "x7          1.000e+00  7.338e-17 1.363e+16   <2e-16 ***\n",
       "---\n",
       "Signif. codes:  0 '***' 0.001 '**' 0.01 '*' 0.05 '.' 0.1 ' ' 1\n",
       "\n",
       "Residual standard error: 3.293e-15 on 9997 degrees of freedom\n",
       "Multiple R-squared:      1,\tAdjusted R-squared:      1 \n",
       "F-statistic: 2.591e+34 on 2 and 9997 DF,  p-value: < 2.2e-16\n"
      ]
     },
     "metadata": {},
     "output_type": "display_data"
    }
   ],
   "source": [
    "x6 = (1-gamma)*(upsilon/d*h_p - R/r) \n",
    "x7 = gamma/p*(w-R)\n",
    "Param3 = lm(h_1 ~ x6 + x7)\n",
    "summary(Param3)"
   ]
  },
  {
   "cell_type": "code",
   "execution_count": 23,
   "id": "1a50f2a2",
   "metadata": {},
   "outputs": [
    {
     "name": "stdout",
     "output_type": "stream",
     "text": [
      "[1] \"phi hat is equal to: 15\"\n"
     ]
    }
   ],
   "source": [
    "print(paste('phi hat is equal to:', 1/coef(Param3)[\"x6\"]))"
   ]
  },
  {
   "cell_type": "markdown",
   "id": "2eb426a5",
   "metadata": {},
   "source": [
    "# FIN"
   ]
  },
  {
   "cell_type": "markdown",
   "id": "5d420426",
   "metadata": {},
   "source": [
    "#### References\n",
    "BCentral : https://si2.bcentral.cl/public/pdf/documentos-trabajo/pdf/dtbc781.pdf\n",
    "\n",
    "CNN: https://www.cnnchile.com/coronavirus/hogares-vitacura-18-mts2-puente-alto_20200413/"
   ]
  }
 ],
 "metadata": {
  "kernelspec": {
   "display_name": "R",
   "language": "R",
   "name": "ir"
  },
  "language_info": {
   "codemirror_mode": "r",
   "file_extension": ".r",
   "mimetype": "text/x-r-source",
   "name": "R",
   "pygments_lexer": "r",
   "version": "3.6.1"
  }
 },
 "nbformat": 4,
 "nbformat_minor": 5
}
